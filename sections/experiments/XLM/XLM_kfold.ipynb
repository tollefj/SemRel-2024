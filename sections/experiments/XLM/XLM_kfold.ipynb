{
 "cells": [
  {
   "cell_type": "code",
   "execution_count": 1,
   "metadata": {},
   "outputs": [],
   "source": [
    "%load_ext autoreload\n",
    "%autoreload 2"
   ]
  },
  {
   "cell_type": "markdown",
   "metadata": {},
   "source": [
    "# XLM-R "
   ]
  },
  {
   "cell_type": "markdown",
   "metadata": {},
   "source": [
    "# Initial multilingual baseline (no training)"
   ]
  },
  {
   "cell_type": "code",
   "execution_count": 2,
   "metadata": {},
   "outputs": [
    {
     "name": "stderr",
     "output_type": "stream",
     "text": [
      "/home/tollef/git/STS-augmented-pair-encoder/pair_encoder/model.py:9: TqdmExperimentalWarning: Using `tqdm.autonotebook.tqdm` in notebook mode. Use `tqdm.tqdm` instead to force console mode (e.g. in jupyter console)\n",
      "  from tqdm.autonotebook import tqdm, trange\n"
     ]
    },
    {
     "data": {
      "text/plain": [
       "'FacebookAI/xlm-roberta-base'"
      ]
     },
     "execution_count": 2,
     "metadata": {},
     "output_type": "execute_result"
    }
   ],
   "source": [
    "from models import models\n",
    "from util import get_data\n",
    "model_name = models[\"multilingual\"]\n",
    "model_name"
   ]
  },
  {
   "cell_type": "code",
   "execution_count": 3,
   "metadata": {},
   "outputs": [
    {
     "data": {
      "text/html": [
       "<div>\n",
       "<style scoped>\n",
       "    .dataframe tbody tr th:only-of-type {\n",
       "        vertical-align: middle;\n",
       "    }\n",
       "\n",
       "    .dataframe tbody tr th {\n",
       "        vertical-align: top;\n",
       "    }\n",
       "\n",
       "    .dataframe thead th {\n",
       "        text-align: right;\n",
       "    }\n",
       "</style>\n",
       "<table border=\"1\" class=\"dataframe\">\n",
       "  <thead>\n",
       "    <tr style=\"text-align: right;\">\n",
       "      <th></th>\n",
       "      <th>PairID</th>\n",
       "      <th>Score</th>\n",
       "      <th>s1</th>\n",
       "      <th>s2</th>\n",
       "    </tr>\n",
       "  </thead>\n",
       "  <tbody>\n",
       "    <tr>\n",
       "      <th>8</th>\n",
       "      <td>ENG-train-0008</td>\n",
       "      <td>1.0</td>\n",
       "      <td>Your parents do not have to like your boyfrien...</td>\n",
       "      <td>your parents dont have to like your bf, you do.</td>\n",
       "    </tr>\n",
       "    <tr>\n",
       "      <th>12</th>\n",
       "      <td>ENG-train-0012</td>\n",
       "      <td>1.0</td>\n",
       "      <td>You might find out later, that you lost the pe...</td>\n",
       "      <td>u might find out later you lost the perfect one.</td>\n",
       "    </tr>\n",
       "    <tr>\n",
       "      <th>15</th>\n",
       "      <td>ENG-train-0015</td>\n",
       "      <td>1.0</td>\n",
       "      <td>Guys can be weird. I should know.</td>\n",
       "      <td>Guys can be wierd; I should know.</td>\n",
       "    </tr>\n",
       "    <tr>\n",
       "      <th>17</th>\n",
       "      <td>ENG-train-0017</td>\n",
       "      <td>1.0</td>\n",
       "      <td>Fritz Laband was a German footballer .</td>\n",
       "      <td>Fritz Laband is a former German football player .</td>\n",
       "    </tr>\n",
       "    <tr>\n",
       "      <th>23</th>\n",
       "      <td>ENG-train-0023</td>\n",
       "      <td>1.0</td>\n",
       "      <td>If you happen to see me before I return, pleas...</td>\n",
       "      <td>If you should see me before I get back...pleas...</td>\n",
       "    </tr>\n",
       "  </tbody>\n",
       "</table>\n",
       "</div>"
      ],
      "text/plain": [
       "            PairID  Score                                                 s1  \\\n",
       "8   ENG-train-0008    1.0  Your parents do not have to like your boyfrien...   \n",
       "12  ENG-train-0012    1.0  You might find out later, that you lost the pe...   \n",
       "15  ENG-train-0015    1.0                  Guys can be weird. I should know.   \n",
       "17  ENG-train-0017    1.0             Fritz Laband was a German footballer .   \n",
       "23  ENG-train-0023    1.0  If you happen to see me before I return, pleas...   \n",
       "\n",
       "                                                   s2  \n",
       "8     your parents dont have to like your bf, you do.  \n",
       "12   u might find out later you lost the perfect one.  \n",
       "15                  Guys can be wierd; I should know.  \n",
       "17  Fritz Laband is a former German football player .  \n",
       "23  If you should see me before I get back...pleas...  "
      ]
     },
     "execution_count": 3,
     "metadata": {},
     "output_type": "execute_result"
    }
   ],
   "source": [
    "from sklearn.model_selection import KFold\n",
    "\n",
    "def get_kfold(lang, nsplits=5):\n",
    "    train = get_data(lang=lang, train=True)\n",
    "    kFold=KFold(n_splits=nsplits,random_state=42,shuffle=True)\n",
    "    split_dfs = []\n",
    "    for train_index, test_index in kFold.split(train):\n",
    "        train_df = train.iloc[train_index]\n",
    "        test_df = train.iloc[test_index]\n",
    "        split_dfs.append({\n",
    "            \"train\": train_df,\n",
    "            \"test\": test_df\n",
    "        })\n",
    "    return split_dfs\n",
    "\n",
    "kfold_dfs = get_kfold(\"eng\")\n",
    "kfold_dfs[0][\"test\"].head()"
   ]
  },
  {
   "cell_type": "code",
   "execution_count": 4,
   "metadata": {},
   "outputs": [
    {
     "name": "stderr",
     "output_type": "stream",
     "text": [
      "Some weights of XLMRobertaForSequenceClassification were not initialized from the model checkpoint at FacebookAI/xlm-roberta-base and are newly initialized: ['classifier.dense.weight', 'classifier.dense.bias', 'classifier.out_proj.bias', 'classifier.out_proj.weight']\n",
      "You should probably TRAIN this model on a down-stream task to be able to use it for predictions and inference.\n"
     ]
    }
   ],
   "source": [
    "from pair_encoder.model import PairEncoder\n",
    "\n",
    "model = PairEncoder(\n",
    "    model_name=model_name, max_length=200, device=\"cuda\", seed=42\n",
    ")"
   ]
  },
  {
   "cell_type": "code",
   "execution_count": 5,
   "metadata": {},
   "outputs": [
    {
     "data": {
      "text/plain": [
       "['amh', 'arq', 'ary', 'eng', 'esp', 'hau', 'kin', 'mar', 'tel']"
      ]
     },
     "execution_count": 5,
     "metadata": {},
     "output_type": "execute_result"
    }
   ],
   "source": [
    "from util import get_langs\n",
    "langs = get_langs()\n",
    "langs"
   ]
  },
  {
   "cell_type": "code",
   "execution_count": 6,
   "metadata": {},
   "outputs": [],
   "source": [
    "from pair_encoder.evaluation import (\n",
    "    CorrelationEvaluator,\n",
    "    get_correlation,\n",
    ")\n",
    "import pandas as pd\n",
    "from tqdm.notebook import tqdm\n",
    "import numpy as np\n",
    "\n",
    "from util import get_data, get_pairs, eval_and_submit\n",
    "\n",
    "\n",
    "def eval_lang(model, df_test):\n",
    "    return get_correlation(test=get_pairs(df_test), pair_encoder=model)\n",
    "\n",
    "from pair_encoder import train_encoder\n",
    "\n",
    "\n",
    "def eval_kfold(model, train, lang=None, fit=False, nsplits=5):\n",
    "    kFold = KFold(n_splits=nsplits, random_state=42, shuffle=True)\n",
    "    correlations = []\n",
    "    for train_index, test_index in tqdm(kFold.split(train), total=nsplits):\n",
    "        train_df = train.iloc[train_index]\n",
    "        encoder = None\n",
    "        if fit:\n",
    "            encoder, history = train_encoder(\n",
    "                train_samples=get_pairs(train_df),\n",
    "                upscaling_samples=None,\n",
    "                model_name=model_name,\n",
    "                similarity_model=None,\n",
    "                batch_size=32,\n",
    "                learning_rate=2e-5,\n",
    "                max_grad_norm=1.0,\n",
    "                epochs=2,\n",
    "                eval_steps=0,\n",
    "                max_length=200,\n",
    "                k=0,\n",
    "                weak_training_epochs=2,  # used if k > 0\n",
    "                seed=42,\n",
    "                verbose=True,\n",
    "                device=\"cuda\"\n",
    "            )\n",
    "        test_df = train.iloc[test_index]\n",
    "        if lang and \"language\" in test_df.columns:\n",
    "            langs = [lang]\n",
    "            tmpsize = len(test_df)\n",
    "            test_df = test_df[test_df[\"language\"].isin(langs)]\n",
    "            newsize = len(test_df)\n",
    "            print(f\"Reduced test set from {tmpsize} to {newsize} to match {lang}\")\n",
    "\n",
    "        if fit:\n",
    "            correlation = eval_lang(encoder, test_df)\n",
    "        else:\n",
    "            correlation = eval_lang(model, test_df)\n",
    "        correlations.append(correlation)\n",
    "    mean_correlation = np.mean(correlations)\n",
    "    std_correlation = np.std(correlations)\n",
    "    return mean_correlation, std_correlation\n",
    "\n"
   ]
  },
  {
   "cell_type": "code",
   "execution_count": null,
   "metadata": {},
   "outputs": [],
   "source": [
    "baseline_no_train = {}\n",
    "for lang in tqdm(langs):\n",
    "    train = get_data(lang=lang, train=True)\n",
    "    mean_correlation, std_correlation = eval_kfold(\n",
    "        model, train, lang=None, nsplits=5\n",
    "    )  # we're only fetching language data to begin with\n",
    "    baseline_no_train[lang] = (mean_correlation, std_correlation)"
   ]
  },
  {
   "cell_type": "code",
   "execution_count": 8,
   "metadata": {},
   "outputs": [
    {
     "data": {
      "text/plain": [
       "{'amh': (-0.10748305201014174, 0.07669711348214014),\n",
       " 'arq': (-0.026382370849709902, 0.05068177088865072),\n",
       " 'ary': (-0.18984242375081886, 0.04879139408238526),\n",
       " 'eng': (-0.15489859894399388, 0.033273925759626864),\n",
       " 'esp': (0.007996704266400315, 0.04941575521451324),\n",
       " 'hau': (-0.04180103964122549, 0.06069975855303336),\n",
       " 'kin': (0.010304412975683698, 0.03896655639164298),\n",
       " 'mar': (-0.07649096988779235, 0.07489661421882177),\n",
       " 'tel': (-0.11982415619942152, 0.09324279592832001)}"
      ]
     },
     "execution_count": 8,
     "metadata": {},
     "output_type": "execute_result"
    }
   ],
   "source": [
    "baseline_no_train"
   ]
  },
  {
   "cell_type": "code",
   "execution_count": 9,
   "metadata": {},
   "outputs": [
    {
     "data": {
      "text/html": [
       "<div>\n",
       "<style scoped>\n",
       "    .dataframe tbody tr th:only-of-type {\n",
       "        vertical-align: middle;\n",
       "    }\n",
       "\n",
       "    .dataframe tbody tr th {\n",
       "        vertical-align: top;\n",
       "    }\n",
       "\n",
       "    .dataframe thead th {\n",
       "        text-align: right;\n",
       "    }\n",
       "</style>\n",
       "<table border=\"1\" class=\"dataframe\">\n",
       "  <thead>\n",
       "    <tr style=\"text-align: right;\">\n",
       "      <th></th>\n",
       "      <th>amh</th>\n",
       "      <th>arq</th>\n",
       "      <th>ary</th>\n",
       "      <th>eng</th>\n",
       "      <th>esp</th>\n",
       "      <th>hau</th>\n",
       "      <th>kin</th>\n",
       "      <th>mar</th>\n",
       "      <th>tel</th>\n",
       "    </tr>\n",
       "  </thead>\n",
       "  <tbody>\n",
       "    <tr>\n",
       "      <th>XLMR-notrain</th>\n",
       "      <td>-10.75 (7.67)</td>\n",
       "      <td>-2.64 (5.07)</td>\n",
       "      <td>-18.98 (4.88)</td>\n",
       "      <td>-15.49 (3.33)</td>\n",
       "      <td>0.80 (4.94)</td>\n",
       "      <td>-4.18 (6.07)</td>\n",
       "      <td>1.03 (3.90)</td>\n",
       "      <td>-7.65 (7.49)</td>\n",
       "      <td>-11.98 (9.32)</td>\n",
       "    </tr>\n",
       "  </tbody>\n",
       "</table>\n",
       "</div>"
      ],
      "text/plain": [
       "                        amh           arq            ary            eng  \\\n",
       "XLMR-notrain  -10.75 (7.67)  -2.64 (5.07)  -18.98 (4.88)  -15.49 (3.33)   \n",
       "\n",
       "                      esp           hau          kin           mar  \\\n",
       "XLMR-notrain  0.80 (4.94)  -4.18 (6.07)  1.03 (3.90)  -7.65 (7.49)   \n",
       "\n",
       "                        tel  \n",
       "XLMR-notrain  -11.98 (9.32)  "
      ]
     },
     "execution_count": 9,
     "metadata": {},
     "output_type": "execute_result"
    }
   ],
   "source": [
    "def process_df(data, prefix=\"\"):\n",
    "    df = pd.DataFrame(data).T\n",
    "    df.columns = [\"mean\", \"std\"]\n",
    "    df = df * 100\n",
    "    df[\"mean\"] = df[\"mean\"].map(lambda x: f\"{x:.2f}\")\n",
    "    df[\"std\"] = df[\"std\"].map(lambda x: f\"({x:.2f})\")\n",
    "    df[f\"{prefix}\"] = df[\"mean\"] + \" \" + df[\"std\"]\n",
    "    df = df.drop(columns=[\"mean\", \"std\"])\n",
    "    return df.T\n",
    "\n",
    "df_notrain = process_df(baseline_no_train, prefix=\"XLMR-notrain\")\n",
    "df_notrain"
   ]
  },
  {
   "cell_type": "code",
   "execution_count": 10,
   "metadata": {},
   "outputs": [
    {
     "data": {
      "text/plain": [
       "{'amh': (-0.10748305201014174, 0.07669711348214014),\n",
       " 'arq': (-0.026382370849709902, 0.05068177088865072),\n",
       " 'ary': (-0.18984242375081886, 0.04879139408238526),\n",
       " 'eng': (-0.15489859894399388, 0.033273925759626864),\n",
       " 'esp': (0.007996704266400315, 0.04941575521451324),\n",
       " 'hau': (-0.04180103964122549, 0.06069975855303336),\n",
       " 'kin': (0.010304412975683698, 0.03896655639164298),\n",
       " 'mar': (-0.07649096988779235, 0.07489661421882177),\n",
       " 'tel': (-0.11982415619942152, 0.09324279592832001)}"
      ]
     },
     "execution_count": 10,
     "metadata": {},
     "output_type": "execute_result"
    }
   ],
   "source": [
    "baseline_no_train"
   ]
  },
  {
   "cell_type": "markdown",
   "metadata": {},
   "source": [
    "# All languages"
   ]
  },
  {
   "cell_type": "code",
   "execution_count": null,
   "metadata": {},
   "outputs": [],
   "source": [
    "import pandas as pd\n",
    "\n",
    "# get all training data\n",
    "df = pd.read_csv(\"data/train.csv\")\n",
    "print(df.shape)\n",
    "df.head()\n",
    "\n",
    "baseline_all = {}\n",
    "\n",
    "for lang in langs:\n",
    "    print(lang)\n",
    "    mean_correlation, std_correlation = eval_kfold(model, df, lang, fit=True, nsplits=5)\n",
    "    baseline_all[lang] = (mean_correlation, std_correlation)"
   ]
  },
  {
   "cell_type": "code",
   "execution_count": 12,
   "metadata": {},
   "outputs": [
    {
     "data": {
      "text/html": [
       "<div>\n",
       "<style scoped>\n",
       "    .dataframe tbody tr th:only-of-type {\n",
       "        vertical-align: middle;\n",
       "    }\n",
       "\n",
       "    .dataframe tbody tr th {\n",
       "        vertical-align: top;\n",
       "    }\n",
       "\n",
       "    .dataframe thead th {\n",
       "        text-align: right;\n",
       "    }\n",
       "</style>\n",
       "<table border=\"1\" class=\"dataframe\">\n",
       "  <thead>\n",
       "    <tr style=\"text-align: right;\">\n",
       "      <th></th>\n",
       "      <th>amh</th>\n",
       "      <th>arq</th>\n",
       "      <th>ary</th>\n",
       "      <th>eng</th>\n",
       "      <th>esp</th>\n",
       "      <th>hau</th>\n",
       "      <th>kin</th>\n",
       "      <th>mar</th>\n",
       "      <th>tel</th>\n",
       "    </tr>\n",
       "  </thead>\n",
       "  <tbody>\n",
       "    <tr>\n",
       "      <th>XLMR-all</th>\n",
       "      <td>84.56 (1.53)</td>\n",
       "      <td>58.23 (5.30)</td>\n",
       "      <td>82.01 (3.04)</td>\n",
       "      <td>83.63 (1.36)</td>\n",
       "      <td>64.73 (3.23)</td>\n",
       "      <td>72.25 (0.66)</td>\n",
       "      <td>59.70 (4.09)</td>\n",
       "      <td>83.44 (2.56)</td>\n",
       "      <td>77.96 (3.87)</td>\n",
       "    </tr>\n",
       "  </tbody>\n",
       "</table>\n",
       "</div>"
      ],
      "text/plain": [
       "                   amh           arq           ary           eng  \\\n",
       "XLMR-all  84.56 (1.53)  58.23 (5.30)  82.01 (3.04)  83.63 (1.36)   \n",
       "\n",
       "                   esp           hau           kin           mar           tel  \n",
       "XLMR-all  64.73 (3.23)  72.25 (0.66)  59.70 (4.09)  83.44 (2.56)  77.96 (3.87)  "
      ]
     },
     "execution_count": 12,
     "metadata": {},
     "output_type": "execute_result"
    }
   ],
   "source": [
    "df_all = process_df(baseline_all, prefix=\"XLMR-all\")\n",
    "df_all"
   ]
  },
  {
   "cell_type": "code",
   "execution_count": 19,
   "metadata": {},
   "outputs": [
    {
     "data": {
      "text/html": [
       "<div>\n",
       "<style scoped>\n",
       "    .dataframe tbody tr th:only-of-type {\n",
       "        vertical-align: middle;\n",
       "    }\n",
       "\n",
       "    .dataframe tbody tr th {\n",
       "        vertical-align: top;\n",
       "    }\n",
       "\n",
       "    .dataframe thead th {\n",
       "        text-align: right;\n",
       "    }\n",
       "</style>\n",
       "<table border=\"1\" class=\"dataframe\">\n",
       "  <thead>\n",
       "    <tr style=\"text-align: right;\">\n",
       "      <th></th>\n",
       "      <th>amh</th>\n",
       "      <th>arq</th>\n",
       "      <th>ary</th>\n",
       "      <th>eng</th>\n",
       "      <th>esp</th>\n",
       "      <th>hau</th>\n",
       "      <th>kin</th>\n",
       "      <th>mar</th>\n",
       "      <th>tel</th>\n",
       "    </tr>\n",
       "  </thead>\n",
       "  <tbody>\n",
       "    <tr>\n",
       "      <th>XLMR-all</th>\n",
       "      <td>84.56 (1.53)</td>\n",
       "      <td>58.23 (5.30)</td>\n",
       "      <td>82.01 (3.04)</td>\n",
       "      <td>83.63 (1.36)</td>\n",
       "      <td>64.73 (3.23)</td>\n",
       "      <td>72.25 (0.66)</td>\n",
       "      <td>59.70 (4.09)</td>\n",
       "      <td>83.44 (2.56)</td>\n",
       "      <td>77.96 (3.87)</td>\n",
       "    </tr>\n",
       "  </tbody>\n",
       "</table>\n",
       "</div>"
      ],
      "text/plain": [
       "                   amh           arq           ary           eng  \\\n",
       "XLMR-all  84.56 (1.53)  58.23 (5.30)  82.01 (3.04)  83.63 (1.36)   \n",
       "\n",
       "                   esp           hau           kin           mar           tel  \n",
       "XLMR-all  64.73 (3.23)  72.25 (0.66)  59.70 (4.09)  83.44 (2.56)  77.96 (3.87)  "
      ]
     },
     "execution_count": 19,
     "metadata": {},
     "output_type": "execute_result"
    }
   ],
   "source": [
    "df_all = process_df(baseline_all, prefix=\"XLMR-all\")\n",
    "df_all"
   ]
  },
  {
   "cell_type": "markdown",
   "metadata": {},
   "source": [
    "# Train per language"
   ]
  },
  {
   "cell_type": "code",
   "execution_count": null,
   "metadata": {},
   "outputs": [],
   "source": [
    "baseline_lang = {}\n",
    "for lang in langs:\n",
    "    print(lang)\n",
    "    df = get_data(lang=lang, train=True)\n",
    "    mean_correlation, std_correlation = eval_kfold(model, df, lang, fit=True, nsplits=5)\n",
    "    baseline_lang[lang] = (mean_correlation, std_correlation)"
   ]
  },
  {
   "cell_type": "code",
   "execution_count": 18,
   "metadata": {},
   "outputs": [
    {
     "data": {
      "text/html": [
       "<div>\n",
       "<style scoped>\n",
       "    .dataframe tbody tr th:only-of-type {\n",
       "        vertical-align: middle;\n",
       "    }\n",
       "\n",
       "    .dataframe tbody tr th {\n",
       "        vertical-align: top;\n",
       "    }\n",
       "\n",
       "    .dataframe thead th {\n",
       "        text-align: right;\n",
       "    }\n",
       "</style>\n",
       "<table border=\"1\" class=\"dataframe\">\n",
       "  <thead>\n",
       "    <tr style=\"text-align: right;\">\n",
       "      <th></th>\n",
       "      <th>amh</th>\n",
       "      <th>arq</th>\n",
       "      <th>ary</th>\n",
       "      <th>eng</th>\n",
       "      <th>esp</th>\n",
       "      <th>hau</th>\n",
       "      <th>kin</th>\n",
       "      <th>mar</th>\n",
       "      <th>tel</th>\n",
       "    </tr>\n",
       "  </thead>\n",
       "  <tbody>\n",
       "    <tr>\n",
       "      <th>XLMR-lang</th>\n",
       "      <td>73.22 (3.02)</td>\n",
       "      <td>39.03 (4.49)</td>\n",
       "      <td>69.14 (4.16)</td>\n",
       "      <td>83.27 (0.89)</td>\n",
       "      <td>58.72 (8.00)</td>\n",
       "      <td>63.57 (1.96)</td>\n",
       "      <td>31.40 (7.34)</td>\n",
       "      <td>74.31 (3.02)</td>\n",
       "      <td>71.40 (3.99)</td>\n",
       "    </tr>\n",
       "  </tbody>\n",
       "</table>\n",
       "</div>"
      ],
      "text/plain": [
       "                    amh           arq           ary           eng  \\\n",
       "XLMR-lang  73.22 (3.02)  39.03 (4.49)  69.14 (4.16)  83.27 (0.89)   \n",
       "\n",
       "                    esp           hau           kin           mar  \\\n",
       "XLMR-lang  58.72 (8.00)  63.57 (1.96)  31.40 (7.34)  74.31 (3.02)   \n",
       "\n",
       "                    tel  \n",
       "XLMR-lang  71.40 (3.99)  "
      ]
     },
     "execution_count": 18,
     "metadata": {},
     "output_type": "execute_result"
    }
   ],
   "source": [
    "df_lang = process_df(baseline_lang, prefix=\"XLMR-lang\")\n",
    "df_lang"
   ]
  },
  {
   "cell_type": "code",
   "execution_count": 20,
   "metadata": {},
   "outputs": [
    {
     "data": {
      "text/html": [
       "<div>\n",
       "<style scoped>\n",
       "    .dataframe tbody tr th:only-of-type {\n",
       "        vertical-align: middle;\n",
       "    }\n",
       "\n",
       "    .dataframe tbody tr th {\n",
       "        vertical-align: top;\n",
       "    }\n",
       "\n",
       "    .dataframe thead th {\n",
       "        text-align: right;\n",
       "    }\n",
       "</style>\n",
       "<table border=\"1\" class=\"dataframe\">\n",
       "  <thead>\n",
       "    <tr style=\"text-align: right;\">\n",
       "      <th></th>\n",
       "      <th>amh</th>\n",
       "      <th>arq</th>\n",
       "      <th>ary</th>\n",
       "      <th>eng</th>\n",
       "      <th>esp</th>\n",
       "      <th>hau</th>\n",
       "      <th>kin</th>\n",
       "      <th>mar</th>\n",
       "      <th>tel</th>\n",
       "    </tr>\n",
       "  </thead>\n",
       "  <tbody>\n",
       "    <tr>\n",
       "      <th>XLMR-notrain</th>\n",
       "      <td>-10.75 (7.67)</td>\n",
       "      <td>-2.64 (5.07)</td>\n",
       "      <td>-18.98 (4.88)</td>\n",
       "      <td>-15.49 (3.33)</td>\n",
       "      <td>0.80 (4.94)</td>\n",
       "      <td>-4.18 (6.07)</td>\n",
       "      <td>1.03 (3.90)</td>\n",
       "      <td>-7.65 (7.49)</td>\n",
       "      <td>-11.98 (9.32)</td>\n",
       "    </tr>\n",
       "    <tr>\n",
       "      <th>XLMR-all</th>\n",
       "      <td>84.56 (1.53)</td>\n",
       "      <td>58.23 (5.30)</td>\n",
       "      <td>82.01 (3.04)</td>\n",
       "      <td>83.63 (1.36)</td>\n",
       "      <td>64.73 (3.23)</td>\n",
       "      <td>72.25 (0.66)</td>\n",
       "      <td>59.70 (4.09)</td>\n",
       "      <td>83.44 (2.56)</td>\n",
       "      <td>77.96 (3.87)</td>\n",
       "    </tr>\n",
       "    <tr>\n",
       "      <th>XLMR-lang</th>\n",
       "      <td>73.22 (3.02)</td>\n",
       "      <td>39.03 (4.49)</td>\n",
       "      <td>69.14 (4.16)</td>\n",
       "      <td>83.27 (0.89)</td>\n",
       "      <td>58.72 (8.00)</td>\n",
       "      <td>63.57 (1.96)</td>\n",
       "      <td>31.40 (7.34)</td>\n",
       "      <td>74.31 (3.02)</td>\n",
       "      <td>71.40 (3.99)</td>\n",
       "    </tr>\n",
       "  </tbody>\n",
       "</table>\n",
       "</div>"
      ],
      "text/plain": [
       "                        amh           arq            ary            eng  \\\n",
       "XLMR-notrain  -10.75 (7.67)  -2.64 (5.07)  -18.98 (4.88)  -15.49 (3.33)   \n",
       "XLMR-all       84.56 (1.53)  58.23 (5.30)   82.01 (3.04)   83.63 (1.36)   \n",
       "XLMR-lang      73.22 (3.02)  39.03 (4.49)   69.14 (4.16)   83.27 (0.89)   \n",
       "\n",
       "                       esp           hau           kin           mar  \\\n",
       "XLMR-notrain   0.80 (4.94)  -4.18 (6.07)   1.03 (3.90)  -7.65 (7.49)   \n",
       "XLMR-all      64.73 (3.23)  72.25 (0.66)  59.70 (4.09)  83.44 (2.56)   \n",
       "XLMR-lang     58.72 (8.00)  63.57 (1.96)  31.40 (7.34)  74.31 (3.02)   \n",
       "\n",
       "                        tel  \n",
       "XLMR-notrain  -11.98 (9.32)  \n",
       "XLMR-all       77.96 (3.87)  \n",
       "XLMR-lang      71.40 (3.99)  "
      ]
     },
     "execution_count": 20,
     "metadata": {},
     "output_type": "execute_result"
    }
   ],
   "source": [
    "final_df = pd.concat([df_notrain, df_all, df_lang], axis=0)\n",
    "final_df"
   ]
  },
  {
   "cell_type": "code",
   "execution_count": 21,
   "metadata": {},
   "outputs": [
    {
     "name": "stdout",
     "output_type": "stream",
     "text": [
      "\\begin{tabular}{llllllllll}\n",
      "\\toprule\n",
      " & arq & amh & eng & hau & kin & mar & ary & esp & tel \\\\\n",
      "\\midrule\n",
      "XLMR-notrain & -2.64 (5.07) & -10.75 (7.67) & -15.49 (3.33) & -4.18 (6.07) & 1.03 (3.90) & -7.65 (7.49) & -18.98 (4.88) & 0.80 (4.94) & -11.98 (9.32) \\\\\n",
      "XLMR-all & 58.23 (5.30) & 84.56 (1.53) & 83.63 (1.36) & 72.25 (0.66) & 59.70 (4.09) & 83.44 (2.56) & 82.01 (3.04) & 64.73 (3.23) & 77.96 (3.87) \\\\\n",
      "XLMR-lang & 39.03 (4.49) & 73.22 (3.02) & 83.27 (0.89) & 63.57 (1.96) & 31.40 (7.34) & 74.31 (3.02) & 69.14 (4.16) & 58.72 (8.00) & 71.40 (3.99) \\\\\n",
      "\\bottomrule\n",
      "\\end{tabular}\n",
      "\n"
     ]
    }
   ],
   "source": [
    "# change order from\n",
    "# amh\tarq\tary\teng\tesp\thau\tkin\tmar\ttel\n",
    "# to \n",
    "# arq   & amh   & eng   & hau   & kin   & mar   & ary   & esp   & tel\n",
    "columns = [\n",
    "    \"arq\", \"amh\", \"eng\", \"hau\", \"kin\", \"mar\", \"ary\", \"esp\", \"tel\"\n",
    "]\n",
    "\n",
    "final_df = final_df[columns]\n",
    "final_df\n",
    "print(final_df.to_latex(float_format=\"%.2f\"))"
   ]
  }
 ],
 "metadata": {
  "kernelspec": {
   "display_name": "Python 3",
   "language": "python",
   "name": "python3"
  },
  "language_info": {
   "codemirror_mode": {
    "name": "ipython",
    "version": 3
   },
   "file_extension": ".py",
   "mimetype": "text/x-python",
   "name": "python",
   "nbconvert_exporter": "python",
   "pygments_lexer": "ipython3",
   "version": "3.10.12"
  }
 },
 "nbformat": 4,
 "nbformat_minor": 2
}
