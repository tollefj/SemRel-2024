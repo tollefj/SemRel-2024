{
 "cells": [
  {
   "cell_type": "code",
   "execution_count": 1,
   "metadata": {},
   "outputs": [],
   "source": [
    "%load_ext autoreload\n",
    "%autoreload 2"
   ]
  },
  {
   "cell_type": "markdown",
   "metadata": {},
   "source": [
    "# E5-base multilingual "
   ]
  },
  {
   "cell_type": "markdown",
   "metadata": {},
   "source": [
    "# Initial multilingual baseline (no training)"
   ]
  },
  {
   "cell_type": "code",
   "execution_count": 2,
   "metadata": {},
   "outputs": [
    {
     "name": "stderr",
     "output_type": "stream",
     "text": [
      "/home/tollef/git/STS-augmented-pair-encoder/pair_encoder/model.py:9: TqdmExperimentalWarning: Using `tqdm.autonotebook.tqdm` in notebook mode. Use `tqdm.tqdm` instead to force console mode (e.g. in jupyter console)\n",
      "  from tqdm.autonotebook import tqdm, trange\n"
     ]
    },
    {
     "data": {
      "text/plain": [
       "'intfloat/multilingual-e5-base'"
      ]
     },
     "execution_count": 2,
     "metadata": {},
     "output_type": "execute_result"
    }
   ],
   "source": [
    "from util import get_data\n",
    "model_name = \"intfloat/multilingual-e5-base\"\n",
    "model_name"
   ]
  },
  {
   "cell_type": "code",
   "execution_count": 3,
   "metadata": {},
   "outputs": [
    {
     "data": {
      "text/plain": [
       "['amh', 'arq', 'ary', 'eng', 'esp', 'hau', 'kin', 'mar', 'tel']"
      ]
     },
     "execution_count": 3,
     "metadata": {},
     "output_type": "execute_result"
    }
   ],
   "source": [
    "from util import get_langs\n",
    "langs = get_langs()\n",
    "langs"
   ]
  },
  {
   "cell_type": "code",
   "execution_count": 4,
   "metadata": {},
   "outputs": [],
   "source": [
    "from torch.optim import AdamW\n",
    "\n",
    "config = {\n",
    "    \"epochs\": 2,\n",
    "    \"scheduler\": \"WarmupLinear\",\n",
    "    \"optimizer_class\": AdamW,\n",
    "    \"optimizer_params\": {\"lr\": 2e-5},\n",
    "    \"weight_decay\": 0.01,\n",
    "    \"save_best_model\": True,\n",
    "    \"max_grad_norm\": 1,\n",
    "    \"use_amp\": False,\n",
    "    \"show_progress_bar\": True,\n",
    "    \"checkpoint_save_total_limit\": 0,\n",
    "}"
   ]
  },
  {
   "cell_type": "code",
   "execution_count": 5,
   "metadata": {},
   "outputs": [],
   "source": [
    "from util import do_evaluation, get_spearman\n",
    "\n",
    "def eval_lang(model, df, lang):\n",
    "    preds = do_evaluation(\n",
    "        model=model,\n",
    "        lang=lang,\n",
    "        df=df,\n",
    "        submit=False\n",
    "    )\n",
    "    spearmanc = get_spearman(\n",
    "        gold_scores=df.Score.values,\n",
    "        pred_scores=preds\n",
    "    )\n",
    "    return spearmanc"
   ]
  },
  {
   "cell_type": "code",
   "execution_count": 6,
   "metadata": {},
   "outputs": [],
   "source": [
    "from sklearn.model_selection import KFold\n",
    "from sentence_transformers import SentenceTransformer\n",
    "from sentence_transformer_train import train_on_df, evaluator_from_df\n",
    "\n",
    "\n",
    "import pandas as pd\n",
    "import numpy as np\n",
    "from tqdm.notebook import tqdm\n",
    "\n",
    "from util import get_data, get_pairs, eval_and_submit\n",
    "\n",
    "\n",
    "def eval_kfold(model, train, lang=None, fit=False, nsplits=5):\n",
    "    kFold = KFold(n_splits=nsplits, random_state=42, shuffle=True)\n",
    "    correlations = []\n",
    "    for train_index, test_index in tqdm(kFold.split(train), total=nsplits):\n",
    "        train_df = train.iloc[train_index]\n",
    "        test_df = train.iloc[test_index]\n",
    "        # sample from test_df where lang is lang\n",
    "        if lang and \"language\" in test_df.columns:\n",
    "            langs = [lang]\n",
    "            tmpsize = len(test_df)\n",
    "            test_df = test_df[test_df[\"language\"].isin(langs)]\n",
    "            newsize = len(test_df)\n",
    "            print(\n",
    "                f\"Reduced test set from {tmpsize} to {newsize} to match {lang}\"\n",
    "            )\n",
    "\n",
    "        if fit:\n",
    "            model = SentenceTransformer(model_name)\n",
    "            model = train_on_df(\n",
    "                model=model_name, df=train_df, batch_size=16, config=config\n",
    "            )\n",
    "\n",
    "        correlation = eval_lang(model=model, df=test_df, lang=lang)\n",
    "        correlations.append(correlation)\n",
    "    mean_correlation = np.mean(correlations)\n",
    "    std_correlation = np.std(correlations)\n",
    "    return mean_correlation, std_correlation"
   ]
  },
  {
   "cell_type": "code",
   "execution_count": 7,
   "metadata": {},
   "outputs": [],
   "source": [
    "model = SentenceTransformer(model_name)"
   ]
  },
  {
   "cell_type": "code",
   "execution_count": null,
   "metadata": {},
   "outputs": [],
   "source": [
    "baseline_no_train = {}\n",
    "for lang in tqdm(langs):\n",
    "    train = get_data(lang=lang, train=True)\n",
    "    mean_correlation, std_correlation = eval_kfold(\n",
    "        model, train, lang=None, nsplits=5\n",
    "    )  # we're only fetching language data to begin with\n",
    "    baseline_no_train[lang] = (mean_correlation, std_correlation)"
   ]
  },
  {
   "cell_type": "code",
   "execution_count": 10,
   "metadata": {},
   "outputs": [
    {
     "data": {
      "text/plain": [
       "{'amh': (0.7586214183180987, 0.018783143557279034),\n",
       " 'arq': (0.5040962424367389, 0.028206664256620186),\n",
       " 'ary': (0.3603218474023298, 0.015926143512239702),\n",
       " 'eng': (0.8072301739182689, 0.008707607084371858),\n",
       " 'esp': (0.6030328794208057, 0.01402867346989389),\n",
       " 'hau': (0.5237558277213593, 0.019255448083088905),\n",
       " 'kin': (0.462020717813219, 0.052973172534683206),\n",
       " 'mar': (0.7700211291469171, 0.013342558995495777),\n",
       " 'tel': (0.7528091890045397, 0.014858794111326325)}"
      ]
     },
     "execution_count": 10,
     "metadata": {},
     "output_type": "execute_result"
    }
   ],
   "source": [
    "baseline_no_train"
   ]
  },
  {
   "cell_type": "code",
   "execution_count": 11,
   "metadata": {},
   "outputs": [
    {
     "data": {
      "text/html": [
       "<div>\n",
       "<style scoped>\n",
       "    .dataframe tbody tr th:only-of-type {\n",
       "        vertical-align: middle;\n",
       "    }\n",
       "\n",
       "    .dataframe tbody tr th {\n",
       "        vertical-align: top;\n",
       "    }\n",
       "\n",
       "    .dataframe thead th {\n",
       "        text-align: right;\n",
       "    }\n",
       "</style>\n",
       "<table border=\"1\" class=\"dataframe\">\n",
       "  <thead>\n",
       "    <tr style=\"text-align: right;\">\n",
       "      <th></th>\n",
       "      <th>amh</th>\n",
       "      <th>arq</th>\n",
       "      <th>ary</th>\n",
       "      <th>eng</th>\n",
       "      <th>esp</th>\n",
       "      <th>hau</th>\n",
       "      <th>kin</th>\n",
       "      <th>mar</th>\n",
       "      <th>tel</th>\n",
       "    </tr>\n",
       "  </thead>\n",
       "  <tbody>\n",
       "    <tr>\n",
       "      <th>e5-multi-notrain</th>\n",
       "      <td>75.86 (1.88)</td>\n",
       "      <td>50.41 (2.82)</td>\n",
       "      <td>36.03 (1.59)</td>\n",
       "      <td>80.72 (0.87)</td>\n",
       "      <td>60.30 (1.40)</td>\n",
       "      <td>52.38 (1.93)</td>\n",
       "      <td>46.20 (5.30)</td>\n",
       "      <td>77.00 (1.33)</td>\n",
       "      <td>75.28 (1.49)</td>\n",
       "    </tr>\n",
       "  </tbody>\n",
       "</table>\n",
       "</div>"
      ],
      "text/plain": [
       "                           amh           arq           ary           eng  \\\n",
       "e5-multi-notrain  75.86 (1.88)  50.41 (2.82)  36.03 (1.59)  80.72 (0.87)   \n",
       "\n",
       "                           esp           hau           kin           mar  \\\n",
       "e5-multi-notrain  60.30 (1.40)  52.38 (1.93)  46.20 (5.30)  77.00 (1.33)   \n",
       "\n",
       "                           tel  \n",
       "e5-multi-notrain  75.28 (1.49)  "
      ]
     },
     "execution_count": 11,
     "metadata": {},
     "output_type": "execute_result"
    }
   ],
   "source": [
    "def process_df(data, prefix=\"\"):\n",
    "    df = pd.DataFrame(data).T\n",
    "    df.columns = [\"mean\", \"std\"]\n",
    "    df = df * 100\n",
    "    df[\"mean\"] = df[\"mean\"].map(lambda x: f\"{x:.2f}\")\n",
    "    df[\"std\"] = df[\"std\"].map(lambda x: f\"({x:.2f})\")\n",
    "    df[f\"{prefix}\"] = df[\"mean\"] + \" \" + df[\"std\"]\n",
    "    df = df.drop(columns=[\"mean\", \"std\"])\n",
    "    return df.T\n",
    "\n",
    "df_notrain = process_df(baseline_no_train, prefix=\"e5-multi-notrain\")\n",
    "df_notrain"
   ]
  },
  {
   "cell_type": "markdown",
   "metadata": {},
   "source": [
    "# All languages"
   ]
  },
  {
   "cell_type": "code",
   "execution_count": null,
   "metadata": {},
   "outputs": [],
   "source": [
    "import pandas as pd\n",
    "\n",
    "# get all training data\n",
    "df = pd.read_csv(\"data/train.csv\")\n",
    "print(df.shape)\n",
    "df.head()\n",
    "\n",
    "baseline_all = {}\n",
    "\n",
    "for lang in langs:\n",
    "    print(lang)\n",
    "    mean_correlation, std_correlation = eval_kfold(model, df, lang, fit=True, nsplits=3)\n",
    "    baseline_all[lang] = (mean_correlation, std_correlation)"
   ]
  },
  {
   "cell_type": "code",
   "execution_count": 14,
   "metadata": {},
   "outputs": [
    {
     "data": {
      "text/html": [
       "<div>\n",
       "<style scoped>\n",
       "    .dataframe tbody tr th:only-of-type {\n",
       "        vertical-align: middle;\n",
       "    }\n",
       "\n",
       "    .dataframe tbody tr th {\n",
       "        vertical-align: top;\n",
       "    }\n",
       "\n",
       "    .dataframe thead th {\n",
       "        text-align: right;\n",
       "    }\n",
       "</style>\n",
       "<table border=\"1\" class=\"dataframe\">\n",
       "  <thead>\n",
       "    <tr style=\"text-align: right;\">\n",
       "      <th></th>\n",
       "      <th>amh</th>\n",
       "      <th>arq</th>\n",
       "      <th>ary</th>\n",
       "      <th>eng</th>\n",
       "      <th>esp</th>\n",
       "      <th>hau</th>\n",
       "      <th>kin</th>\n",
       "      <th>mar</th>\n",
       "      <th>tel</th>\n",
       "    </tr>\n",
       "  </thead>\n",
       "  <tbody>\n",
       "    <tr>\n",
       "      <th>e5-all</th>\n",
       "      <td>84.52 (0.88)</td>\n",
       "      <td>59.45 (2.34)</td>\n",
       "      <td>81.20 (1.44)</td>\n",
       "      <td>86.43 (0.55)</td>\n",
       "      <td>67.16 (2.44)</td>\n",
       "      <td>69.01 (0.19)</td>\n",
       "      <td>69.08 (3.43)</td>\n",
       "      <td>84.62 (1.35)</td>\n",
       "      <td>80.14 (0.97)</td>\n",
       "    </tr>\n",
       "  </tbody>\n",
       "</table>\n",
       "</div>"
      ],
      "text/plain": [
       "                 amh           arq           ary           eng           esp  \\\n",
       "e5-all  84.52 (0.88)  59.45 (2.34)  81.20 (1.44)  86.43 (0.55)  67.16 (2.44)   \n",
       "\n",
       "                 hau           kin           mar           tel  \n",
       "e5-all  69.01 (0.19)  69.08 (3.43)  84.62 (1.35)  80.14 (0.97)  "
      ]
     },
     "execution_count": 14,
     "metadata": {},
     "output_type": "execute_result"
    }
   ],
   "source": [
    "df_all = process_df(baseline_all, prefix=\"e5-all\")\n",
    "df_all"
   ]
  },
  {
   "cell_type": "markdown",
   "metadata": {},
   "source": [
    "# Train per language"
   ]
  },
  {
   "cell_type": "code",
   "execution_count": null,
   "metadata": {},
   "outputs": [],
   "source": [
    "baseline_lang = {}\n",
    "for lang in langs:\n",
    "    print(lang)\n",
    "    df = get_data(lang=lang, train=True)\n",
    "    mean_correlation, std_correlation = eval_kfold(model, df, lang, fit=True, nsplits=3)\n",
    "    baseline_lang[lang] = (mean_correlation, std_correlation)"
   ]
  },
  {
   "cell_type": "code",
   "execution_count": 17,
   "metadata": {},
   "outputs": [
    {
     "data": {
      "text/html": [
       "<div>\n",
       "<style scoped>\n",
       "    .dataframe tbody tr th:only-of-type {\n",
       "        vertical-align: middle;\n",
       "    }\n",
       "\n",
       "    .dataframe tbody tr th {\n",
       "        vertical-align: top;\n",
       "    }\n",
       "\n",
       "    .dataframe thead th {\n",
       "        text-align: right;\n",
       "    }\n",
       "</style>\n",
       "<table border=\"1\" class=\"dataframe\">\n",
       "  <thead>\n",
       "    <tr style=\"text-align: right;\">\n",
       "      <th></th>\n",
       "      <th>amh</th>\n",
       "      <th>arq</th>\n",
       "      <th>ary</th>\n",
       "      <th>eng</th>\n",
       "      <th>esp</th>\n",
       "      <th>hau</th>\n",
       "      <th>kin</th>\n",
       "      <th>mar</th>\n",
       "      <th>tel</th>\n",
       "    </tr>\n",
       "  </thead>\n",
       "  <tbody>\n",
       "    <tr>\n",
       "      <th>e5-lang</th>\n",
       "      <td>82.27 (2.35)</td>\n",
       "      <td>59.50 (3.25)</td>\n",
       "      <td>75.73 (1.02)</td>\n",
       "      <td>86.72 (1.02)</td>\n",
       "      <td>67.21 (0.39)</td>\n",
       "      <td>68.43 (2.10)</td>\n",
       "      <td>63.04 (3.56)</td>\n",
       "      <td>82.89 (0.32)</td>\n",
       "      <td>77.94 (1.23)</td>\n",
       "    </tr>\n",
       "  </tbody>\n",
       "</table>\n",
       "</div>"
      ],
      "text/plain": [
       "                  amh           arq           ary           eng           esp  \\\n",
       "e5-lang  82.27 (2.35)  59.50 (3.25)  75.73 (1.02)  86.72 (1.02)  67.21 (0.39)   \n",
       "\n",
       "                  hau           kin           mar           tel  \n",
       "e5-lang  68.43 (2.10)  63.04 (3.56)  82.89 (0.32)  77.94 (1.23)  "
      ]
     },
     "execution_count": 17,
     "metadata": {},
     "output_type": "execute_result"
    }
   ],
   "source": [
    "df_lang = process_df(baseline_lang, prefix=\"e5-lang\")\n",
    "df_lang"
   ]
  },
  {
   "cell_type": "code",
   "execution_count": 18,
   "metadata": {},
   "outputs": [
    {
     "data": {
      "text/html": [
       "<div>\n",
       "<style scoped>\n",
       "    .dataframe tbody tr th:only-of-type {\n",
       "        vertical-align: middle;\n",
       "    }\n",
       "\n",
       "    .dataframe tbody tr th {\n",
       "        vertical-align: top;\n",
       "    }\n",
       "\n",
       "    .dataframe thead th {\n",
       "        text-align: right;\n",
       "    }\n",
       "</style>\n",
       "<table border=\"1\" class=\"dataframe\">\n",
       "  <thead>\n",
       "    <tr style=\"text-align: right;\">\n",
       "      <th></th>\n",
       "      <th>amh</th>\n",
       "      <th>arq</th>\n",
       "      <th>ary</th>\n",
       "      <th>eng</th>\n",
       "      <th>esp</th>\n",
       "      <th>hau</th>\n",
       "      <th>kin</th>\n",
       "      <th>mar</th>\n",
       "      <th>tel</th>\n",
       "    </tr>\n",
       "  </thead>\n",
       "  <tbody>\n",
       "    <tr>\n",
       "      <th>e5-multi-notrain</th>\n",
       "      <td>75.86 (1.88)</td>\n",
       "      <td>50.41 (2.82)</td>\n",
       "      <td>36.03 (1.59)</td>\n",
       "      <td>80.72 (0.87)</td>\n",
       "      <td>60.30 (1.40)</td>\n",
       "      <td>52.38 (1.93)</td>\n",
       "      <td>46.20 (5.30)</td>\n",
       "      <td>77.00 (1.33)</td>\n",
       "      <td>75.28 (1.49)</td>\n",
       "    </tr>\n",
       "    <tr>\n",
       "      <th>e5-all</th>\n",
       "      <td>84.52 (0.88)</td>\n",
       "      <td>59.45 (2.34)</td>\n",
       "      <td>81.20 (1.44)</td>\n",
       "      <td>86.43 (0.55)</td>\n",
       "      <td>67.16 (2.44)</td>\n",
       "      <td>69.01 (0.19)</td>\n",
       "      <td>69.08 (3.43)</td>\n",
       "      <td>84.62 (1.35)</td>\n",
       "      <td>80.14 (0.97)</td>\n",
       "    </tr>\n",
       "    <tr>\n",
       "      <th>e5-lang</th>\n",
       "      <td>82.27 (2.35)</td>\n",
       "      <td>59.50 (3.25)</td>\n",
       "      <td>75.73 (1.02)</td>\n",
       "      <td>86.72 (1.02)</td>\n",
       "      <td>67.21 (0.39)</td>\n",
       "      <td>68.43 (2.10)</td>\n",
       "      <td>63.04 (3.56)</td>\n",
       "      <td>82.89 (0.32)</td>\n",
       "      <td>77.94 (1.23)</td>\n",
       "    </tr>\n",
       "  </tbody>\n",
       "</table>\n",
       "</div>"
      ],
      "text/plain": [
       "                           amh           arq           ary           eng  \\\n",
       "e5-multi-notrain  75.86 (1.88)  50.41 (2.82)  36.03 (1.59)  80.72 (0.87)   \n",
       "e5-all            84.52 (0.88)  59.45 (2.34)  81.20 (1.44)  86.43 (0.55)   \n",
       "e5-lang           82.27 (2.35)  59.50 (3.25)  75.73 (1.02)  86.72 (1.02)   \n",
       "\n",
       "                           esp           hau           kin           mar  \\\n",
       "e5-multi-notrain  60.30 (1.40)  52.38 (1.93)  46.20 (5.30)  77.00 (1.33)   \n",
       "e5-all            67.16 (2.44)  69.01 (0.19)  69.08 (3.43)  84.62 (1.35)   \n",
       "e5-lang           67.21 (0.39)  68.43 (2.10)  63.04 (3.56)  82.89 (0.32)   \n",
       "\n",
       "                           tel  \n",
       "e5-multi-notrain  75.28 (1.49)  \n",
       "e5-all            80.14 (0.97)  \n",
       "e5-lang           77.94 (1.23)  "
      ]
     },
     "execution_count": 18,
     "metadata": {},
     "output_type": "execute_result"
    }
   ],
   "source": [
    "final_df = pd.concat([df_notrain, df_all, df_lang], axis=0)\n",
    "final_df"
   ]
  },
  {
   "cell_type": "code",
   "execution_count": 19,
   "metadata": {},
   "outputs": [
    {
     "name": "stdout",
     "output_type": "stream",
     "text": [
      "\\begin{tabular}{llllllllll}\n",
      "\\toprule\n",
      " & arq & amh & eng & hau & kin & mar & ary & esp & tel \\\\\n",
      "\\midrule\n",
      "e5-multi-notrain & 50.41 (2.82) & 75.86 (1.88) & 80.72 (0.87) & 52.38 (1.93) & 46.20 (5.30) & 77.00 (1.33) & 36.03 (1.59) & 60.30 (1.40) & 75.28 (1.49) \\\\\n",
      "e5-all & 59.45 (2.34) & 84.52 (0.88) & 86.43 (0.55) & 69.01 (0.19) & 69.08 (3.43) & 84.62 (1.35) & 81.20 (1.44) & 67.16 (2.44) & 80.14 (0.97) \\\\\n",
      "e5-lang & 59.50 (3.25) & 82.27 (2.35) & 86.72 (1.02) & 68.43 (2.10) & 63.04 (3.56) & 82.89 (0.32) & 75.73 (1.02) & 67.21 (0.39) & 77.94 (1.23) \\\\\n",
      "\\bottomrule\n",
      "\\end{tabular}\n",
      "\n"
     ]
    }
   ],
   "source": [
    "# change order from\n",
    "# amh\tarq\tary\teng\tesp\thau\tkin\tmar\ttel\n",
    "# to \n",
    "# arq   & amh   & eng   & hau   & kin   & mar   & ary   & esp   & tel\n",
    "columns = [\n",
    "    \"arq\", \"amh\", \"eng\", \"hau\", \"kin\", \"mar\", \"ary\", \"esp\", \"tel\"\n",
    "]\n",
    "\n",
    "final_df = final_df[columns]\n",
    "final_df\n",
    "print(final_df.to_latex(float_format=\"%.2f\"))"
   ]
  },
  {
   "cell_type": "code",
   "execution_count": null,
   "metadata": {},
   "outputs": [],
   "source": [
    "# split the df into dev and test, based on the last prefix\n",
    "# index = \"base lang\".split()\n",
    "index = \"base all lang\".split()\n",
    "\n",
    "dev_df = final_df[final_df.index.str.contains(\"dev\")]\n",
    "dev_df.index = index\n",
    "\n",
    "test_df = final_df[final_df.index.str.contains(\"test\")]\n",
    "test_df.index = index"
   ]
  },
  {
   "cell_type": "code",
   "execution_count": null,
   "metadata": {},
   "outputs": [
    {
     "name": "stdout",
     "output_type": "stream",
     "text": [
      "\\begin{tabular}{lrrrrrrrrr}\n",
      "\\toprule\n",
      " & arq & amh & eng & hau & kin & mar & ary & esp & tel \\\\\n",
      "\\midrule\n",
      "base & 26.80 & -11.65 & -12.57 & -20.03 & 5.33 & -1.60 & -48.28 & -6.52 & -33.06 \\\\\n",
      "all & 47.51 & 75.95 & 84.72 & 68.00 & 65.11 & 84.78 & 85.45 & 71.88 & 83.40 \\\\\n",
      "lang & 52.03 & 77.05 & 85.28 & 66.34 & 33.10 & 75.66 & 79.70 & 72.24 & 77.83 \\\\\n",
      "\\bottomrule\n",
      "\\end{tabular}\n",
      "\n"
     ]
    }
   ],
   "source": [
    "print(dev_df.to_latex(float_format=\"%.2f\"))"
   ]
  },
  {
   "cell_type": "code",
   "execution_count": null,
   "metadata": {},
   "outputs": [
    {
     "name": "stdout",
     "output_type": "stream",
     "text": [
      "\\begin{tabular}{lrrrrrrrrr}\n",
      "\\toprule\n",
      " & arq & amh & eng & hau & kin & mar & ary & esp & tel \\\\\n",
      "\\midrule\n",
      "base & 8.76 & -30.51 & -13.80 & -3.54 & -5.22 & 9.43 & -51.00 & -3.67 & -15.27 \\\\\n",
      "all & 54.73 & 86.42 & 85.83 & 75.37 & 71.11 & 86.81 & 76.68 & 63.45 & 80.23 \\\\\n",
      "lang & 55.60 & 77.96 & 86.21 & 72.90 & 44.36 & 81.08 & 79.81 & 64.35 & 75.31 \\\\\n",
      "\\bottomrule\n",
      "\\end{tabular}\n",
      "\n"
     ]
    }
   ],
   "source": [
    "print(test_df.to_latex(float_format=\"%.2f\"))"
   ]
  },
  {
   "cell_type": "code",
   "execution_count": null,
   "metadata": {},
   "outputs": [],
   "source": []
  }
 ],
 "metadata": {
  "kernelspec": {
   "display_name": "Python 3",
   "language": "python",
   "name": "python3"
  },
  "language_info": {
   "codemirror_mode": {
    "name": "ipython",
    "version": 3
   },
   "file_extension": ".py",
   "mimetype": "text/x-python",
   "name": "python",
   "nbconvert_exporter": "python",
   "pygments_lexer": "ipython3",
   "version": "3.10.12"
  }
 },
 "nbformat": 4,
 "nbformat_minor": 2
}
